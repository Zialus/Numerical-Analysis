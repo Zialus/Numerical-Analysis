{
 "cells": [
  {
   "cell_type": "code",
   "execution_count": 1,
   "metadata": {},
   "outputs": [
    {
     "name": "stdout",
     "output_type": "stream",
     "text": [
      "0.1 false\n",
      "0.01 false\n",
      "0.001 false\n",
      "0.0001 false\n",
      "1.0e-5 false\n",
      "1.0e-6 false\n",
      "1.0e-7 false\n",
      "1.0e-8 true\n",
      "1.0e-9 true\n",
      "1.0e-10 true\n",
      "1.0e-11 true\n",
      "1.0e-12 true\n",
      "1.0e-13 true\n",
      "1.0e-14 true\n",
      "1.0e-15 true\n",
      "1.0e-16 true\n",
      "1.0e-17 true\n",
      "9.999999e-19 true\n",
      "1.0e-19 true\n",
      "1.0e-20 true\n"
     ]
    }
   ],
   "source": [
    "for i in [10.0f0^x for x in -1:-1:-20]\n",
    "    println(i, \" \", 1-i == 1)\n",
    "end"
   ]
  },
  {
   "cell_type": "code",
   "execution_count": 2,
   "metadata": {},
   "outputs": [
    {
     "name": "stdout",
     "output_type": "stream",
     "text": [
      "0.0009765625 false\n",
      "0.00048828125 false\n",
      "0.00024414062 false\n",
      "0.00012207031 false\n",
      "6.1035156e-5 false\n",
      "3.0517578e-5 false\n",
      "1.5258789e-5 false\n",
      "7.6293945e-6 false\n",
      "3.8146973e-6 false\n",
      "1.9073486e-6 false\n",
      "9.536743e-7 false\n",
      "4.7683716e-7 false\n",
      "2.3841858e-7 false\n",
      "1.1920929e-7 false\n",
      "5.9604645e-8 false\n",
      "2.9802322e-8 true\n",
      "1.4901161e-8 true\n",
      "7.450581e-9 true\n",
      "3.7252903e-9 true\n",
      "1.8626451e-9 true\n",
      "9.313226e-10 true\n"
     ]
    }
   ],
   "source": [
    "for i in [2.0f0^x for x in -10:-1:-30]\n",
    "    println(i, \" \", 1-i == 1)\n",
    "end"
   ]
  },
  {
   "cell_type": "code",
   "execution_count": 3,
   "metadata": {},
   "outputs": [
    {
     "name": "stdout",
     "output_type": "stream",
     "text": [
      "false\n",
      "false\n",
      "false\n",
      "true\n",
      "true\n"
     ]
    }
   ],
   "source": [
    "println(1-9.0f-8 == 1)\n",
    "println(1-5.0f-8 == 1)\n",
    "println(1-3.0f-8 == 1)\n",
    "println(1-2.0f-8 == 1)\n",
    "println(1-1.0f-8 == 1)"
   ]
  },
  {
   "cell_type": "code",
   "execution_count": 4,
   "metadata": {},
   "outputs": [
    {
     "data": {
      "text/plain": [
       "total_sum_ex2 (generic function with 1 method)"
      ]
     },
     "execution_count": 4,
     "metadata": {},
     "output_type": "execute_result"
    }
   ],
   "source": [
    "function sum_component_ex2(n) ::Float32\n",
    "  res = (factorial(big(n))^2 ) / (factorial(big(2*n+1)))\n",
    "  return res\n",
    "end\n",
    "\n",
    "function total_sum_ex2(n)\n",
    "  sqrt_3 = sqrt(3.0f0) ::Float32\n",
    "  const_ = 9.0f0/(2.0f0*sqrt_3) ::Float32\n",
    "  acc = 0.0f0 ::Float32\n",
    "  for i in 0:n\n",
    "    acc += sum_component_ex2(i)\n",
    "  end      \n",
    "  res = Float32(const_*acc) ::Float32\n",
    "  return res\n",
    "end"
   ]
  },
  {
   "cell_type": "code",
   "execution_count": 5,
   "metadata": {},
   "outputs": [
    {
     "name": "stdout",
     "output_type": "stream",
     "text": [
      "0 2.5980763\n",
      "1 3.031089\n",
      "2 3.1176915\n",
      "3 3.1362493\n",
      "4 3.140373\n",
      "5 3.1413102\n",
      "6 3.1415265\n",
      "7 3.141577\n",
      "8 3.1415887\n",
      "9 3.1415915\n",
      "10 3.141592\n",
      "11 3.1415925\n",
      "12 3.1415925\n",
      "13 3.1415925\n",
      "14 3.1415925\n",
      "15 3.1415925\n",
      "16 3.1415925\n",
      "17 3.1415925\n",
      "18 3.1415925\n",
      "19 3.1415925\n",
      "20 3.1415925\n",
      "21 3.1415925\n",
      "22 3.1415925\n",
      "23 3.1415925\n",
      "24 3.1415925\n",
      "25 3.1415925\n",
      "26 3.1415925\n",
      "27 3.1415925\n",
      "28 3.1415925\n",
      "29 3.1415925\n",
      "30 3.1415925\n"
     ]
    }
   ],
   "source": [
    "for i in 0:30\n",
    "  result = total_sum_ex2(i) ::Float32\n",
    "  println(i,\" \",result)\n",
    "end"
   ]
  },
  {
   "cell_type": "code",
   "execution_count": 6,
   "metadata": {},
   "outputs": [
    {
     "name": "stdout",
     "output_type": "stream",
     "text": [
      "e: 0.00000000469016114835  n: 12 S(n): 3.1415925026\n",
      "e: 0.00000000027432872640  n: 14 S(n): 3.1415925026\n",
      "e: 0.00000000006654684442  n: 15 S(n): 3.1415925026\n",
      "e: 0.00000000000393539975  n: 17 S(n): 3.1415925026\n",
      "e: 0.00000000000095906215  n: 18 S(n): 3.1415925026\n",
      "e: 0.00000000000005716448  n: 20 S(n): 3.1415925026\n",
      "e: 0.00000000000000342130  n: 22 S(n): 3.1415925026\n",
      "e: 0.00000000000000083811  n: 23 S(n): 3.1415925026\n",
      "e: 0.00000000000000005041  n: 25 S(n): 3.1415925026\n",
      "e: 0.00000000000000000304  n: 27 S(n): 3.1415925026\n"
     ]
    }
   ],
   "source": [
    "function find_max_error_alembert(max_error,sum_component_formula) # D'Alembert criterion\n",
    "  n = 1\n",
    "  while true\n",
    "    L = sum_component_formula(n+1)/sum_component_formula(n)\n",
    "    majorante = sum_component_formula(n+1)*(1/(1-L))\n",
    "    if majorante < max_error\n",
    "      return (majorante, n)\n",
    "    end\n",
    "    n+=1\n",
    "  end\n",
    "end\n",
    "\n",
    "using Printf\n",
    "for exp in -8:-1:-17\n",
    "    eps = 10.0f0^exp\n",
    "    majorante,n = find_max_error_alembert(eps,sum_component_ex2)\n",
    "#     println(\"e: \", majorante, \" n: \", n, \" S(n): \", total_sum_ex2(n))\n",
    "    @printf(\"e: %8.20f  n: %d S(n): %8.10f\\n\", majorante, n, total_sum_ex2(n))\n",
    "end"
   ]
  },
  {
   "cell_type": "code",
   "execution_count": 7,
   "metadata": {},
   "outputs": [
    {
     "name": "stdout",
     "output_type": "stream",
     "text": [
      "e: 0.00000000469016114835  n: 12 S(n): 3.1415925026\n",
      "e: 0.00000000027432872640  n: 14 S(n): 3.1415925026\n",
      "e: 0.00000000006654684442  n: 15 S(n): 3.1415925026\n",
      "e: 0.00000000000393539975  n: 17 S(n): 3.1415925026\n",
      "e: 0.00000000000095906215  n: 18 S(n): 3.1415925026\n",
      "e: 0.00000000000005716448  n: 20 S(n): 3.1415925026\n",
      "e: 0.00000000000000342130  n: 22 S(n): 3.1415925026\n",
      "e: 0.00000000000000083811  n: 23 S(n): 3.1415925026\n",
      "e: 0.00000000000000005041  n: 25 S(n): 3.1415925026\n",
      "e: 0.00000000000000000304  n: 27 S(n): 3.1415925026\n"
     ]
    }
   ],
   "source": [
    "function find_max_error_alembert(max_error,sum_component_formula) # D'Alembert criterion\n",
    "  n = 1\n",
    "  while true\n",
    "    L ::Float32 = sum_component_formula(n+1)/sum_component_formula(n)\n",
    "    majorante ::Float32 = sum_component_formula(n+1)*(1/(1-L))\n",
    "    if majorante < max_error\n",
    "      return (majorante, n)\n",
    "    end\n",
    "    n+=1\n",
    "  end\n",
    "end\n",
    "\n",
    "using Printf\n",
    "for exp in -8:-1:-17\n",
    "    eps = 10.0f0^exp\n",
    "    majorante,n = find_max_error_alembert(eps,sum_component_ex2)\n",
    "#     println(\"e: \", majorante, \" n: \", n, \" S(n): \", total_sum_ex2(n))\n",
    "    @printf(\"e: %8.20f  n: %d S(n): %8.10f\\n\", majorante, n, total_sum_ex2(n))\n",
    "end"
   ]
  },
  {
   "cell_type": "code",
   "execution_count": 8,
   "metadata": {},
   "outputs": [
    {
     "name": "stdout",
     "output_type": "stream",
     "text": [
      "e: 9.489213781565557e-9 n: 10 S(n): 3.141592\n",
      "e: 5.647935999144213e-10 n: 12 S(n): 3.1415925\n",
      "e: 3.369964346069024e-11 n: 14 S(n): 3.1415925\n",
      "e: 8.240847570225708e-12 n: 15 S(n): 3.1415925\n",
      "e: 4.938876324839179e-13 n: 17 S(n): 3.1415925\n",
      "e: 2.9682809085062845e-14 n: 19 S(n): 3.1415925\n",
      "e: 7.283981605403118e-15 n: 20 S(n): 3.1415925\n",
      "e: 4.394182489111368e-16 n: 22 S(n): 3.1415925\n",
      "e: 2.6566874115456203e-17 n: 24 S(n): 3.1415925\n",
      "e: 6.5372924423671285e-18 n: 25 S(n): 3.1415925\n"
     ]
    }
   ],
   "source": [
    "function find_max_error_cauchy(max_error,sum_component_formula) # Cauchy Criterion\n",
    "  n = 1\n",
    "  while true\n",
    "    L = (sum_component_formula(n+1))^(1/n)\n",
    "    majorante = L^(n+1)/(1/(1-L))\n",
    "    if majorante < max_error\n",
    "      return (majorante, n)\n",
    "    end\n",
    "    n+=1\n",
    "  end\n",
    "end\n",
    "\n",
    "\n",
    "for exp in -8:-1:-17\n",
    "    eps = 10.0f0^exp\n",
    "    majorante,n = find_max_error_cauchy(eps,sum_component_ex2)\n",
    "    println(\"e: \", majorante, \" n: \", n, \" S(n): \", total_sum_ex2(n))\n",
    "#     @printf(\"e: %8.20f  n: %d S(n): %8.10f\\n\", majorante, n, total_sum_ex2(n))\n",
    "end"
   ]
  },
  {
   "cell_type": "code",
   "execution_count": 9,
   "metadata": {},
   "outputs": [
    {
     "name": "stdout",
     "output_type": "stream",
     "text": [
      "e: 9.489215e-9 n: 10 S(n): 3.141592\n",
      "e: 5.6479355e-10 n: 12 S(n): 3.1415925\n",
      "e: 3.3699637e-11 n: 14 S(n): 3.1415925\n",
      "e: 8.2408455e-12 n: 15 S(n): 3.1415925\n",
      "e: 4.938874e-13 n: 17 S(n): 3.1415925\n",
      "e: 2.96828e-14 n: 19 S(n): 3.1415925\n",
      "e: 7.283982e-15 n: 20 S(n): 3.1415925\n",
      "e: 4.3941811e-16 n: 22 S(n): 3.1415925\n",
      "e: 2.6566858e-17 n: 24 S(n): 3.1415925\n",
      "e: 6.5372886e-18 n: 25 S(n): 3.1415925\n"
     ]
    }
   ],
   "source": [
    "function find_max_error_cauchy(max_error,sum_component_formula) # Cauchy Criterion\n",
    "  n = 1\n",
    "  while true\n",
    "    L ::Float32 = (sum_component_formula(n+1))^(1/n)\n",
    "    majorante ::Float32 = L^(n+1)/(1/(1-L))\n",
    "    if majorante < max_error\n",
    "      return (majorante, n)\n",
    "    end\n",
    "    n+=1\n",
    "  end\n",
    "end\n",
    "\n",
    "\n",
    "for exp in -8:-1:-17\n",
    "    eps = 10.0f0^exp\n",
    "    majorante,n = find_max_error_cauchy(eps,sum_component_ex2)\n",
    "    println(\"e: \", majorante, \" n: \", n, \" S(n): \", total_sum_ex2(n))\n",
    "#     @printf(\"e: %8.20f  n: %d S(n): %8.10f\\n\", majorante, n, total_sum_ex2(n))\n",
    "end"
   ]
  },
  {
   "cell_type": "code",
   "execution_count": 10,
   "metadata": {},
   "outputs": [
    {
     "data": {
      "text/plain": [
       "total_sum_ex3 (generic function with 1 method)"
      ]
     },
     "execution_count": 10,
     "metadata": {},
     "output_type": "execute_result"
    }
   ],
   "source": [
    "function sum_component_ex3(n) ::Float32\n",
    "  res = ((-1)^n ) / (factorial(big(2*n+1)))\n",
    "  return res\n",
    "end\n",
    "\n",
    "function total_sum_ex3(n)\n",
    "  const_ = 4.0f0\n",
    "  acc = 0.0f0 ::Float32\n",
    "  for i in 0:n\n",
    "    acc += sum_component_ex3(i)\n",
    "  end      \n",
    "  res = Float32(const_*acc) ::Float32\n",
    "  return res\n",
    "end"
   ]
  },
  {
   "cell_type": "code",
   "execution_count": 11,
   "metadata": {},
   "outputs": [
    {
     "name": "stdout",
     "output_type": "stream",
     "text": [
      "0 4.0\n",
      "1 3.3333333\n",
      "2 3.3666666\n",
      "3 3.3658729\n",
      "4 3.3658838\n",
      "5 3.3658838\n",
      "6 3.3658838\n",
      "7 3.3658838\n",
      "8 3.3658838\n",
      "9 3.3658838\n",
      "10 3.3658838\n",
      "11 3.3658838\n",
      "12 3.3658838\n",
      "13 3.3658838\n",
      "14 3.3658838\n",
      "15 3.3658838\n",
      "16 3.3658838\n",
      "17 3.3658838\n",
      "18 3.3658838\n",
      "19 3.3658838\n",
      "20 3.3658838\n",
      "21 3.3658838\n",
      "22 3.3658838\n",
      "23 3.3658838\n",
      "24 3.3658838\n",
      "25 3.3658838\n",
      "26 3.3658838\n",
      "27 3.3658838\n",
      "28 3.3658838\n",
      "29 3.3658838\n",
      "30 3.3658838\n",
      "31 3.3658838\n",
      "32 3.3658838\n",
      "33 3.3658838\n",
      "34 3.3658838\n",
      "35 3.3658838\n",
      "36 3.3658838\n",
      "37 3.3658838\n",
      "38 3.3658838\n",
      "39 3.3658838\n",
      "40 3.3658838\n",
      "41 3.3658838\n",
      "42 3.3658838\n",
      "43 3.3658838\n",
      "44 3.3658838\n",
      "45 3.3658838\n",
      "46 3.3658838\n",
      "47 3.3658838\n",
      "48 3.3658838\n",
      "49 3.3658838\n",
      "50 3.3658838\n",
      "51 3.3658838\n",
      "52 3.3658838\n",
      "53 3.3658838\n",
      "54 3.3658838\n",
      "55 3.3658838\n",
      "56 3.3658838\n",
      "57 3.3658838\n",
      "58 3.3658838\n",
      "59 3.3658838\n",
      "60 3.3658838\n",
      "61 3.3658838\n",
      "62 3.3658838\n",
      "63 3.3658838\n",
      "64 3.3658838\n",
      "65 3.3658838\n",
      "66 3.3658838\n",
      "67 3.3658838\n",
      "68 3.3658838\n",
      "69 3.3658838\n",
      "70 3.3658838\n",
      "71 3.3658838\n",
      "72 3.3658838\n",
      "73 3.3658838\n",
      "74 3.3658838\n",
      "75 3.3658838\n",
      "76 3.3658838\n",
      "77 3.3658838\n",
      "78 3.3658838\n",
      "79 3.3658838\n",
      "80 3.3658838\n",
      "81 3.3658838\n",
      "82 3.3658838\n",
      "83 3.3658838\n",
      "84 3.3658838\n",
      "85 3.3658838\n",
      "86 3.3658838\n",
      "87 3.3658838\n",
      "88 3.3658838\n",
      "89 3.3658838\n",
      "90 3.3658838\n",
      "91 3.3658838\n",
      "92 3.3658838\n",
      "93 3.3658838\n",
      "94 3.3658838\n",
      "95 3.3658838\n",
      "96 3.3658838\n",
      "97 3.3658838\n",
      "98 3.3658838\n",
      "99 3.3658838\n",
      "100 3.3658838\n",
      "101 3.3658838\n",
      "102 3.3658838\n",
      "103 3.3658838\n",
      "104 3.3658838\n",
      "105 3.3658838\n",
      "106 3.3658838\n",
      "107 3.3658838\n",
      "108 3.3658838\n",
      "109 3.3658838\n",
      "110 3.3658838\n",
      "111 3.3658838\n",
      "112 3.3658838\n",
      "113 3.3658838\n",
      "114 3.3658838\n",
      "115 3.3658838\n",
      "116 3.3658838\n",
      "117 3.3658838\n",
      "118 3.3658838\n",
      "119 3.3658838\n",
      "120 3.3658838\n",
      "121 3.3658838\n",
      "122 3.3658838\n",
      "123 3.3658838\n",
      "124 3.3658838\n",
      "125 3.3658838\n",
      "126 3.3658838\n",
      "127 3.3658838\n",
      "128 3.3658838\n",
      "129 3.3658838\n",
      "130 3.3658838\n",
      "131 3.3658838\n",
      "132 3.3658838\n",
      "133 3.3658838\n",
      "134 3.3658838\n",
      "135 3.3658838\n",
      "136 3.3658838\n",
      "137 3.3658838\n",
      "138 3.3658838\n",
      "139 3.3658838\n",
      "140 3.3658838\n",
      "141 3.3658838\n",
      "142 3.3658838\n",
      "143 3.3658838\n",
      "144 3.3658838\n",
      "145 3.3658838\n",
      "146 3.3658838\n",
      "147 3.3658838\n",
      "148 3.3658838\n",
      "149 3.3658838\n",
      "150 3.3658838\n",
      "151 3.3658838\n",
      "152 3.3658838\n",
      "153 3.3658838\n",
      "154 3.3658838\n",
      "155 3.3658838\n",
      "156 3.3658838\n",
      "157 3.3658838\n",
      "158 3.3658838\n",
      "159 3.3658838\n",
      "160 3.3658838\n",
      "161 3.3658838\n",
      "162 3.3658838\n",
      "163 3.3658838\n",
      "164 3.3658838\n",
      "165 3.3658838\n",
      "166 3.3658838\n",
      "167 3.3658838\n",
      "168 3.3658838\n",
      "169 3.3658838\n",
      "170 3.3658838\n",
      "171 3.3658838\n",
      "172 3.3658838\n",
      "173 3.3658838\n",
      "174 3.3658838\n",
      "175 3.3658838\n",
      "176 3.3658838\n",
      "177 3.3658838\n",
      "178 3.3658838\n",
      "179 3.3658838\n",
      "180 3.3658838\n",
      "181 3.3658838\n",
      "182 3.3658838\n",
      "183 3.3658838\n",
      "184 3.3658838\n",
      "185 3.3658838\n",
      "186 3.3658838\n",
      "187 3.3658838\n",
      "188 3.3658838\n",
      "189 3.3658838\n",
      "190 3.3658838\n",
      "191 3.3658838\n",
      "192 3.3658838\n",
      "193 3.3658838\n",
      "194 3.3658838\n",
      "195 3.3658838\n",
      "196 3.3658838\n",
      "197 3.3658838\n",
      "198 3.3658838\n",
      "199 3.3658838\n",
      "200 3.3658838\n"
     ]
    }
   ],
   "source": [
    "for i in 0:200\n",
    "  result = total_sum_ex3(i) ::Float32\n",
    "  println(i,\" \",result)\n",
    "end"
   ]
  },
  {
   "cell_type": "code",
   "execution_count": 12,
   "metadata": {},
   "outputs": [
    {
     "name": "stdout",
     "output_type": "stream",
     "text": [
      "e: 0.00000275573188446288  n: 4 S(n): 3.3658838272\n",
      "e: 0.00000275573188446288  n: 4 S(n): 3.3658838272\n",
      "e: -0.00000002505210794368  n: 5 S(n): 3.3658838272\n",
      "e: -0.00000002505210794368  n: 5 S(n): 3.3658838272\n",
      "e: 0.00000000016059044372  n: 6 S(n): 3.3658838272\n",
      "e: 0.00000000016059044372  n: 6 S(n): 3.3658838272\n"
     ]
    }
   ],
   "source": [
    "function find_max_error_alternado(max_error,sum_component_formula)\n",
    "  n = 0\n",
    "  while true\n",
    "    result = sum_component_formula(n)\n",
    "    if abs(result) < max_error\n",
    "      return (result, n)\n",
    "    end\n",
    "    n+=1\n",
    "  end\n",
    "end\n",
    "\n",
    "\n",
    "for exp in -4:-1:-9\n",
    "    eps = 10.0f0^exp\n",
    "    majorante,n = find_max_error_alternado(eps,sum_component_ex3)\n",
    "#     println(\"e: \", majorante, \" n: \", n, \" S(n): \", total_sum_ex3(n))\n",
    "    @printf(\"e: %8.20f  n: %d S(n): %8.10f\\n\", majorante, n, total_sum_ex3(n))\n",
    "end"
   ]
  }
 ],
 "metadata": {
  "kernelspec": {
   "display_name": "Julia 1.0.3",
   "language": "julia",
   "name": "julia-1.0"
  },
  "language_info": {
   "file_extension": ".jl",
   "mimetype": "application/julia",
   "name": "julia",
   "version": "1.0.3"
  }
 },
 "nbformat": 4,
 "nbformat_minor": 2
}
