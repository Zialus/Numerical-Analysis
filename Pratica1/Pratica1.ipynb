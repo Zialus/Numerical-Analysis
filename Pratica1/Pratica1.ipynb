{
 "cells": [
  {
   "cell_type": "code",
   "execution_count": 1,
   "metadata": {},
   "outputs": [
    {
     "name": "stdout",
     "output_type": "stream",
     "text": [
      "0.005046547155716314\n",
      "0.004912999999999994\n",
      "-0.04999999999999716\n"
     ]
    }
   ],
   "source": [
    "root_of_8 = 2.83\n",
    "\n",
    "result = 1/((3 + root_of_8)**3)\n",
    "print(result)\n",
    "result = (3 - root_of_8)**3\n",
    "print(result)\n",
    "result = 99 - 35*root_of_8\n",
    "print(result)"
   ]
  },
  {
   "cell_type": "code",
   "execution_count": 2,
   "metadata": {},
   "outputs": [
    {
     "name": "stdout",
     "output_type": "stream",
     "text": [
      "0.005050633883346585\n",
      "0.005050633883346567\n",
      "0.005050633883342925\n"
     ]
    }
   ],
   "source": [
    "import math\n",
    "root_of_8 = math.sqrt(8)\n",
    "\n",
    "result = 1/((3 + root_of_8)**3)\n",
    "print(result)\n",
    "result = (3 - root_of_8)**3\n",
    "print(result)\n",
    "result = 99 - 35*root_of_8\n",
    "print(result)"
   ]
  }
 ],
 "metadata": {
  "kernelspec": {
   "display_name": "Python 3",
   "language": "python",
   "name": "python3"
  },
  "language_info": {
   "codemirror_mode": {
    "name": "ipython",
    "version": 3
   },
   "file_extension": ".py",
   "mimetype": "text/x-python",
   "name": "python",
   "nbconvert_exporter": "python",
   "pygments_lexer": "ipython3",
   "version": "3.6.7"
  }
 },
 "nbformat": 4,
 "nbformat_minor": 2
}
