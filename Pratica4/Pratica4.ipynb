{
 "cells": [
  {
   "cell_type": "code",
   "execution_count": 1,
   "metadata": {},
   "outputs": [
    {
     "name": "stdout",
     "output_type": "stream",
     "text": [
      "4.695075916875121\n",
      "4.670874883494676\n"
     ]
    }
   ],
   "source": [
    "import scipy.integrate as spi\n",
    "import numpy as np\n",
    "\n",
    "def g(x):\n",
    "    return np.e**x\n",
    "\n",
    "a = 1\n",
    "b = 2\n",
    "N = 4\n",
    "\n",
    "# simps(g,a,b,N)\n",
    "xs = np.linspace(a,b,N+1)\n",
    "ys = g(xs)\n",
    "\n",
    "print(spi.trapz(ys,xs))\n",
    "print(spi.simps(ys,xs))"
   ]
  }
 ],
 "metadata": {
  "kernelspec": {
   "display_name": "Python 3",
   "language": "python",
   "name": "python3"
  },
  "language_info": {
   "codemirror_mode": {
    "name": "ipython",
    "version": 3
   },
   "file_extension": ".py",
   "mimetype": "text/x-python",
   "name": "python",
   "nbconvert_exporter": "python",
   "pygments_lexer": "ipython3",
   "version": "3.7.3"
  }
 },
 "nbformat": 4,
 "nbformat_minor": 2
}
