{
 "cells": [
  {
   "cell_type": "code",
   "execution_count": 76,
   "metadata": {},
   "outputs": [
    {
     "name": "stdout",
     "output_type": "stream",
     "text": [
      "10 1e-17\n",
      "100 1e-18\n",
      "1000 9.999999999999997e-19\n",
      "10000 1e-20\n",
      "100000 1.0000000000000001e-20\n",
      "1000000 1e-18\n",
      "10000000 1e-21\n",
      "100000000 1e-24\n",
      "1000000000 1e-18\n"
     ]
    }
   ],
   "source": [
    "for divisor in [10**x for x in range(1, 10)]:\n",
    "    v=1.0\n",
    "    while (1-v) < 1:\n",
    "        v=v/divisor\n",
    "    print(divisor, v)"
   ]
  },
  {
   "cell_type": "code",
   "execution_count": 75,
   "metadata": {},
   "outputs": [
    {
     "name": "stdout",
     "output_type": "stream",
     "text": [
      "9.99999999999998\n"
     ]
    }
   ],
   "source": [
    "sum = 0\n",
    "for _ in range(100):\n",
    "    sum+=0.1\n",
    "    \n",
    "print(sum)"
   ]
  }
 ],
 "metadata": {
  "kernelspec": {
   "display_name": "Python 3",
   "language": "python",
   "name": "python3"
  },
  "language_info": {
   "codemirror_mode": {
    "name": "ipython",
    "version": 3
   },
   "file_extension": ".py",
   "mimetype": "text/x-python",
   "name": "python",
   "nbconvert_exporter": "python",
   "pygments_lexer": "ipython3",
   "version": "3.7.1"
  }
 },
 "nbformat": 4,
 "nbformat_minor": 2
}
